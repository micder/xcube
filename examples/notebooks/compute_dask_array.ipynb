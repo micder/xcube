{
 "cells": [
  {
   "cell_type": "code",
   "execution_count": 2,
   "metadata": {},
   "outputs": [],
   "source": [
    "import numpy as np\n",
    "import xarray as xr\n",
    "from dask.distributed import Client\n",
    "from xcube.util.dask import compute_array_from_func, ChunkContext\n",
    "client = None"
   ]
  },
  {
   "cell_type": "code",
   "execution_count": 3,
   "metadata": {},
   "outputs": [],
   "source": [
    "if client:\n",
    "    client.close()\n",
    "client = Client(processes=True)"
   ]
  },
  {
   "cell_type": "code",
   "execution_count": 11,
   "metadata": {},
   "outputs": [],
   "source": [
    "def my_func(context: ChunkContext):\n",
    "    csy, csx = context.chunk_slices\n",
    "    ch, cw = context.chunk_shape\n",
    "    _, w = context.array_shape\n",
    "    a = np.ndarray((ch, cw), dtype=context.dtype)\n",
    "    for j in range(ch):\n",
    "        for i in range(cw):\n",
    "            a[j, i] = 0.1 * ((csy.start + j) * w + csx.start + i)\n",
    "    return a"
   ]
  },
  {
   "cell_type": "code",
   "execution_count": 12,
   "metadata": {},
   "outputs": [],
   "source": [
    "a = compute_array_from_func(my_func, (1024, 2048), (256, 512), np.float64)"
   ]
  },
  {
   "cell_type": "code",
   "execution_count": 13,
   "metadata": {},
   "outputs": [
    {
     "data": {
      "text/html": [
       "<table>\n",
       "<tr>\n",
       "<td>\n",
       "<table>\n",
       "  <thead>\n",
       "    <tr><td> </td><th> Array </th><th> Chunk </th></tr>\n",
       "  </thead>\n",
       "  <tbody>\n",
       "    <tr><th> Bytes </th><td> 16.78 MB </td> <td> 1.05 MB </td></tr>\n",
       "    <tr><th> Shape </th><td> (1024, 2048) </td> <td> (256, 512) </td></tr>\n",
       "    <tr><th> Count </th><td> 16 Tasks </td><td> 16 Chunks </td></tr>\n",
       "    <tr><th> Type </th><td> float64 </td><td> numpy.ndarray </td></tr>\n",
       "  </tbody>\n",
       "</table>\n",
       "</td>\n",
       "<td>\n",
       "<svg width=\"170\" height=\"110\" style=\"stroke:rgb(0,0,0);stroke-width:1\" >\n",
       "\n",
       "  <!-- Horizontal lines -->\n",
       "  <line x1=\"0\" y1=\"0\" x2=\"120\" y2=\"0\" style=\"stroke-width:2\" />\n",
       "  <line x1=\"0\" y1=\"15\" x2=\"120\" y2=\"15\" />\n",
       "  <line x1=\"0\" y1=\"30\" x2=\"120\" y2=\"30\" />\n",
       "  <line x1=\"0\" y1=\"45\" x2=\"120\" y2=\"45\" />\n",
       "  <line x1=\"0\" y1=\"60\" x2=\"120\" y2=\"60\" style=\"stroke-width:2\" />\n",
       "\n",
       "  <!-- Vertical lines -->\n",
       "  <line x1=\"0\" y1=\"0\" x2=\"0\" y2=\"60\" style=\"stroke-width:2\" />\n",
       "  <line x1=\"30\" y1=\"0\" x2=\"30\" y2=\"60\" />\n",
       "  <line x1=\"60\" y1=\"0\" x2=\"60\" y2=\"60\" />\n",
       "  <line x1=\"90\" y1=\"0\" x2=\"90\" y2=\"60\" />\n",
       "  <line x1=\"120\" y1=\"0\" x2=\"120\" y2=\"60\" style=\"stroke-width:2\" />\n",
       "\n",
       "  <!-- Colored Rectangle -->\n",
       "  <polygon points=\"0.000000,0.000000 120.000000,0.000000 120.000000,60.000000 0.000000,60.000000\" style=\"fill:#ECB172A0;stroke-width:0\"/>\n",
       "\n",
       "  <!-- Text -->\n",
       "  <text x=\"60.000000\" y=\"80.000000\" font-size=\"1.0rem\" font-weight=\"100\" text-anchor=\"middle\" >2048</text>\n",
       "  <text x=\"140.000000\" y=\"30.000000\" font-size=\"1.0rem\" font-weight=\"100\" text-anchor=\"middle\" transform=\"rotate(-90,140.000000,30.000000)\">1024</text>\n",
       "</svg>\n",
       "</td>\n",
       "</tr>\n",
       "</table>"
      ],
      "text/plain": [
       "dask.array<from_func, shape=(1024, 2048), dtype=float64, chunksize=(256, 512), chunktype=numpy.ndarray>"
      ]
     },
     "execution_count": 13,
     "metadata": {},
     "output_type": "execute_result"
    }
   ],
   "source": [
    "a"
   ]
  },
  {
   "cell_type": "code",
   "execution_count": 14,
   "metadata": {},
   "outputs": [
    {
     "data": {
      "image/png": "[encoded data removed]",
      "text/plain": [
       "<IPython.core.display.Image object>"
      ]
     },
     "execution_count": 14,
     "metadata": {},
     "output_type": "execute_result"
    }
   ],
   "source": [
    "a.visualize()"
   ]
  },
  {
   "cell_type": "code",
   "execution_count": 15,
   "metadata": {},
   "outputs": [
    {
     "data": {
      "text/plain": [
       "array([[0.000000e+00, 1.000000e-01, 2.000000e-01, ..., 2.045000e+02,\n",
       "        2.046000e+02, 2.047000e+02],\n",
       "       [2.048000e+02, 2.049000e+02, 2.050000e+02, ..., 4.093000e+02,\n",
       "        4.094000e+02, 4.095000e+02],\n",
       "       [4.096000e+02, 4.097000e+02, 4.098000e+02, ..., 6.141000e+02,\n",
       "        6.142000e+02, 6.143000e+02],\n",
       "       ...,\n",
       "       [2.091008e+05, 2.091009e+05, 2.091010e+05, ..., 2.093053e+05,\n",
       "        2.093054e+05, 2.093055e+05],\n",
       "       [2.093056e+05, 2.093057e+05, 2.093058e+05, ..., 2.095101e+05,\n",
       "        2.095102e+05, 2.095103e+05],\n",
       "       [2.095104e+05, 2.095105e+05, 2.095106e+05, ..., 2.097149e+05,\n",
       "        2.097150e+05, 2.097151e+05]])"
      ]
     },
     "execution_count": 15,
     "metadata": {},
     "output_type": "execute_result"
    }
   ],
   "source": [
    "np.array(a)"
   ]
  },
  {
   "cell_type": "code",
   "execution_count": 17,
   "metadata": {},
   "outputs": [],
   "source": [
    "da = xr.DataArray(a, dims=('y', 'x'))"
   ]
  },
  {
   "cell_type": "code",
   "execution_count": 18,
   "metadata": {},
   "outputs": [
    {
     "data": {
      "text/html": [
       "<pre>&lt;xarray.DataArray &#x27;from_func-2076c9028a13fdd32a49d073c782507b&#x27; (y: 1024, x: 2048)&gt;\n",
       "dask.array&lt;from_func, shape=(1024, 2048), dtype=float64, chunksize=(256, 512), chunktype=numpy.ndarray&gt;\n",
       "Dimensions without coordinates: y, x</pre>"
      ],
      "text/plain": [
       "<xarray.DataArray 'from_func-2076c9028a13fdd32a49d073c782507b' (y: 1024, x: 2048)>\n",
       "dask.array<from_func, shape=(1024, 2048), dtype=float64, chunksize=(256, 512), chunktype=numpy.ndarray>\n",
       "Dimensions without coordinates: y, x"
      ]
     },
     "execution_count": 18,
     "metadata": {},
     "output_type": "execute_result"
    }
   ],
   "source": [
    "da"
   ]
  },
  {
   "cell_type": "code",
   "execution_count": 20,
   "metadata": {},
   "outputs": [
    {
     "data": {
      "text/plain": [
       "array([[0.000000e+00, 1.000000e-01, 2.000000e-01, ..., 2.045000e+02,\n",
       "        2.046000e+02, 2.047000e+02],\n",
       "       [2.048000e+02, 2.049000e+02, 2.050000e+02, ..., 4.093000e+02,\n",
       "        4.094000e+02, 4.095000e+02],\n",
       "       [4.096000e+02, 4.097000e+02, 4.098000e+02, ..., 6.141000e+02,\n",
       "        6.142000e+02, 6.143000e+02],\n",
       "       ...,\n",
       "       [2.091008e+05, 2.091009e+05, 2.091010e+05, ..., 2.093053e+05,\n",
       "        2.093054e+05, 2.093055e+05],\n",
       "       [2.093056e+05, 2.093057e+05, 2.093058e+05, ..., 2.095101e+05,\n",
       "        2.095102e+05, 2.095103e+05],\n",
       "       [2.095104e+05, 2.095105e+05, 2.095106e+05, ..., 2.097149e+05,\n",
       "        2.097150e+05, 2.097151e+05]])"
      ]
     },
     "execution_count": 20,
     "metadata": {},
     "output_type": "execute_result"
    }
   ],
   "source": [
    "da.values"
   ]
  },
  {
   "cell_type": "code",
   "execution_count": 21,
   "metadata": {},
   "outputs": [],
   "source": [
    "ds = xr.Dataset({'test': da})"
   ]
  },
  {
   "cell_type": "code",
   "execution_count": 22,
   "metadata": {},
   "outputs": [
    {
     "data": {
      "text/html": [
       "<pre>&lt;xarray.DataArray &#x27;test&#x27; (y: 1024, x: 2048)&gt;\n",
       "dask.array&lt;from_func, shape=(1024, 2048), dtype=float64, chunksize=(256, 512), chunktype=numpy.ndarray&gt;\n",
       "Dimensions without coordinates: y, x</pre>"
      ],
      "text/plain": [
       "<xarray.DataArray 'test' (y: 1024, x: 2048)>\n",
       "dask.array<from_func, shape=(1024, 2048), dtype=float64, chunksize=(256, 512), chunktype=numpy.ndarray>\n",
       "Dimensions without coordinates: y, x"
      ]
     },
     "execution_count": 22,
     "metadata": {},
     "output_type": "execute_result"
    }
   ],
   "source": [
    "ds.test"
   ]
  },
  {
   "cell_type": "code",
   "execution_count": 23,
   "metadata": {},
   "outputs": [
    {
     "data": {
      "text/plain": [
       "array([[0.000000e+00, 1.000000e-01, 2.000000e-01, ..., 2.045000e+02,\n",
       "        2.046000e+02, 2.047000e+02],\n",
       "       [2.048000e+02, 2.049000e+02, 2.050000e+02, ..., 4.093000e+02,\n",
       "        4.094000e+02, 4.095000e+02],\n",
       "       [4.096000e+02, 4.097000e+02, 4.098000e+02, ..., 6.141000e+02,\n",
       "        6.142000e+02, 6.143000e+02],\n",
       "       ...,\n",
       "       [2.091008e+05, 2.091009e+05, 2.091010e+05, ..., 2.093053e+05,\n",
       "        2.093054e+05, 2.093055e+05],\n",
       "       [2.093056e+05, 2.093057e+05, 2.093058e+05, ..., 2.095101e+05,\n",
       "        2.095102e+05, 2.095103e+05],\n",
       "       [2.095104e+05, 2.095105e+05, 2.095106e+05, ..., 2.097149e+05,\n",
       "        2.097150e+05, 2.097151e+05]])"
      ]
     },
     "execution_count": 23,
     "metadata": {},
     "output_type": "execute_result"
    }
   ],
   "source": [
    "ds.test.values"
   ]
  },
  {
   "cell_type": "code",
   "execution_count": 16,
   "metadata": {},
   "outputs": [],
   "source": [
    "client.close()"
   ]
  },
  {
   "cell_type": "code",
   "execution_count": null,
   "metadata": {},
   "outputs": [],
   "source": []
  },
  {
   "cell_type": "code",
   "execution_count": null,
   "metadata": {},
   "outputs": [],
   "source": []
  }
 ],
 "metadata": {
  "kernelspec": {
   "display_name": "Python 3",
   "language": "python",
   "name": "python3"
  },
  "language_info": {
   "codemirror_mode": {
    "name": "ipython",
    "version": 3
   },
   "file_extension": ".py",
   "mimetype": "text/x-python",
   "name": "python",
   "nbconvert_exporter": "python",
   "pygments_lexer": "ipython3",
   "version": "3.7.8"
  }
 },
 "nbformat": 4,
 "nbformat_minor": 4
}
